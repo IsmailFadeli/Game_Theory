{
  "nbformat": 4,
  "nbformat_minor": 0,
  "metadata": {
    "colab": {
      "name": "Tuples_Lists_Dictionaries.ipynb",
      "provenance": [],
      "collapsed_sections": [],
      "authorship_tag": "ABX9TyMpNB9uDE43exQmtGENMwLB",
      "include_colab_link": true
    },
    "kernelspec": {
      "name": "python3",
      "display_name": "Python 3"
    }
  },
  "cells": [
    {
      "cell_type": "markdown",
      "metadata": {
        "id": "view-in-github",
        "colab_type": "text"
      },
      "source": [
        "<a href=\"https://colab.research.google.com/github/IsmailFadeli/Super_Game/blob/master/Tuples_Lists_Dictionaries.ipynb\" target=\"_parent\"><img src=\"https://colab.research.google.com/assets/colab-badge.svg\" alt=\"Open In Colab\"/></a>"
      ]
    },
    {
      "cell_type": "code",
      "metadata": {
        "id": "KsCq2QXABT7c",
        "colab_type": "code",
        "outputId": "3b97b675-a073-4695-9ebc-699e2840d057",
        "colab": {
          "base_uri": "https://localhost:8080/",
          "height": 34
        }
      },
      "source": [
        "#Tuples\n",
        "#Slicing\n",
        "A = (1,2,3,4,5)\n",
        "A[1:4]\n",
        "len((\"disco\", 10,1.2,\"hard rock\",10))\n",
        "Ratings = (10,6,2,1,5,4,10,9)\n",
        "sorted(Ratings)\n",
        "#Nesting\n",
        "NT = (1, 2, (\"pop\", \"rock\"), (3,4), (\"disco\", (1,2)))\n",
        "NT[2][1]"
      ],
      "execution_count": 0,
      "outputs": [
        {
          "output_type": "execute_result",
          "data": {
            "text/plain": [
              "'rock'"
            ]
          },
          "metadata": {
            "tags": []
          },
          "execution_count": 31
        }
      ]
    },
    {
      "cell_type": "code",
      "metadata": {
        "id": "tQmA1sy50LZp",
        "colab_type": "code",
        "colab": {}
      },
      "source": [
        "#Lists\n",
        "L = [\"M J\", 10.1,1982, [1,2],('A',1)]\n",
        "L[4][0]\n",
        "#Slicing\n",
        "L[3:5]\n",
        "L1 = L + [\"pop\",10]\n",
        "L.extend([\"pop\",10])\n",
        "L.append([\"pop\",10])\n",
        "A = [\"hard rock\", 10,1.2]\n",
        "del(A[1])\n",
        "\"A,B,C,D\".split(\",\")\n",
        "#Cloning\n",
        "B = A[:]"
      ],
      "execution_count": 0,
      "outputs": []
    },
    {
      "cell_type": "code",
      "metadata": {
        "id": "lWpoJ77a0RPt",
        "colab_type": "code",
        "outputId": "276a64c4-de9f-4d1e-bff9-0f61a985e447",
        "colab": {
          "base_uri": "https://localhost:8080/",
          "height": 34
        }
      },
      "source": [
        "#Dictionaries\n",
        "D = { \"Thriller\": 1980, \"Back in Black\": 1988}\n",
        "D"
      ],
      "execution_count": 0,
      "outputs": [
        {
          "output_type": "execute_result",
          "data": {
            "text/plain": [
              "{'Back in Black': 1988, 'Thriller': 1980}"
            ]
          },
          "metadata": {
            "tags": []
          },
          "execution_count": 34
        }
      ]
    },
    {
      "cell_type": "code",
      "metadata": {
        "id": "o9_UHf0z1gTg",
        "colab_type": "code",
        "outputId": "cc31af99-9d6c-4dbe-cc8a-4d16d95decf5",
        "colab": {
          "base_uri": "https://localhost:8080/",
          "height": 50
        }
      },
      "source": [
        "#sets\n",
        "set1 = {\"pop\", \"rock\", \"pop\"}\n",
        "set1\n",
        "#typecasting a list to a set\n",
        "album_list = [\"Micheal jackson\", \"Thriller\", \"Thriller\", 1982]\n",
        "album_set = set(album_list)\n",
        "album_set.add(1988)\n",
        "album_set.remove(1988)\n",
        "print(\"Album set: \", album_set)\n",
        "\"1988\" in album_set #this returns true if the element exists in the set and false otherwise\n"
      ],
      "execution_count": 0,
      "outputs": [
        {
          "output_type": "stream",
          "text": [
            "Album set:  {'Micheal jackson', 1982, 'Thriller'}\n"
          ],
          "name": "stdout"
        },
        {
          "output_type": "execute_result",
          "data": {
            "text/plain": [
              "False"
            ]
          },
          "metadata": {
            "tags": []
          },
          "execution_count": 2
        }
      ]
    },
    {
      "cell_type": "code",
      "metadata": {
        "id": "ap92sRqQ6soG",
        "colab_type": "code",
        "outputId": "9a45175b-e5a0-48a8-8bde-c28df0b32f71",
        "colab": {
          "base_uri": "https://localhost:8080/",
          "height": 84
        }
      },
      "source": [
        "#conditions and branching\n",
        "age = 18\n",
        "if(age > 18):\n",
        "  print(\"you can enter\")\n",
        "elif(age == 18):\n",
        "  print(\"go seee pink floyd\")\n",
        "else:\n",
        "  print(\"go see M L\")\n",
        "print(\"move on\")\n",
        "#logic operators\n",
        "album_year = 1990\n",
        "if (album_year < 1980) or (album_year > 1989):\n",
        "  print(\"The Album was made in the 70's or 90's\")\n",
        "else:\n",
        "  print(\"The Album was made in the 1980's\")\n",
        "album_year = 1983\n",
        "if(album_year > 1979) and (album_year < 1990):\n",
        "  print(\"This album was made in the 80's\")"
      ],
      "execution_count": 0,
      "outputs": [
        {
          "output_type": "stream",
          "text": [
            "go seee pink floyd\n",
            "move on\n",
            "The Album was made in the 70's or 90's\n",
            "This album was made in the 80's\n"
          ],
          "name": "stdout"
        }
      ]
    },
    {
      "cell_type": "code",
      "metadata": {
        "id": "UjOOHrju_8sU",
        "colab_type": "code",
        "outputId": "273eef3a-dbf9-4a3f-d8bb-546d78dead72",
        "colab": {
          "base_uri": "https://localhost:8080/",
          "height": 67
        }
      },
      "source": [
        "#Loops\n",
        "squares = [\"red\", \"yellow\", \"green\", \"purple\", \"blue\"]\n",
        "for i in range(0,5):\n",
        "  squares[i]=\"white\"\n",
        "\n",
        "squaress = [\"red\", \"yellow\", \"green\"]\n",
        "for i,square in enumerate(squaress):\n",
        "  square\n",
        "  i\n",
        "  print (square)\n",
        "\n",
        "squared = ['orange','orange','orange','purple','blue']\n",
        "Newsquares = []\n",
        "i = 0\n",
        "while(squared[i] == 'orange'):\n",
        "  Newsquares.append(squared[i])\n",
        "  i = i + 1"
      ],
      "execution_count": 0,
      "outputs": [
        {
          "output_type": "stream",
          "text": [
            "red\n",
            "yellow\n",
            "green\n"
          ],
          "name": "stdout"
        }
      ]
    },
    {
      "cell_type": "code",
      "metadata": {
        "id": "kvyNk46RFc2e",
        "colab_type": "code",
        "outputId": "e03f9768-d654-41fb-8469-4dbf9e0603e0",
        "colab": {
          "base_uri": "https://localhost:8080/",
          "height": 151
        }
      },
      "source": [
        "#functions\n",
        "\n",
        "album_ratings = [10.0, 8.5, 9.5, 7.0]\n",
        "L = len(album_ratings)\n",
        "S = sum(album_ratings)\n",
        "\n",
        "#sorted vs Sort\n",
        "\n",
        "sorted_album_ratings = sorted (album_ratings)\n",
        "album_ratings.sort()\n",
        "\n",
        "#making a function\n",
        "\n",
        "def add1(a):\n",
        "  \"\"\"\n",
        "  add 1 to a \n",
        "  \"\"\"\n",
        "  b = a + 1\n",
        "  print(a, \"plus 1 equals\", b)\n",
        "  return b\n",
        "def Mult(a,b):\n",
        "  c = a * b\n",
        "  return c\n",
        "Mult(2,3)\n",
        "add1(5)\n",
        "\n",
        "def printStuff(Stuff):\n",
        "  for i,s in enumerate(Stuff):\n",
        "    print(\"Album\", i, \"Rating is\", s)\n",
        "album_ratings = [10.0, 8.5, 9.5]\n",
        "printStuff(album_ratings)\n",
        "\n",
        "def ArtistNames(*names):\n",
        "  for name in names:\n",
        "    print(name)\n",
        "ArtistNames(\"Micheal Jackson\",\"AC/DC\",\"Pink Floyd\")\n",
        "\n",
        "#Global vs Local Variables\n",
        "def PinkFloyd():\n",
        "  global ClaimedSales\n",
        "  ClaimedSales = \"45 million\"\n",
        "  return ClaimedSales\n",
        "\n",
        "PinkFloyd()\n",
        "print(ClaimedSales)"
      ],
      "execution_count": 0,
      "outputs": [
        {
          "output_type": "stream",
          "text": [
            "5 plus 1 equals 6\n",
            "Album 0 Rating is 10.0\n",
            "Album 1 Rating is 8.5\n",
            "Album 2 Rating is 9.5\n",
            "Micheal Jackson\n",
            "AC/DC\n",
            "Pink Floyd\n",
            "45 million\n"
          ],
          "name": "stdout"
        }
      ]
    },
    {
      "cell_type": "code",
      "metadata": {
        "id": "OKYCNi-FMpKC",
        "colab_type": "code",
        "outputId": "972cdd54-37b5-46df-b2de-9047feeca888",
        "colab": {
          "base_uri": "https://localhost:8080/",
          "height": 573
        }
      },
      "source": [
        "#classes and methods \n",
        " import matplotlib.pyplot as plt \n",
        "class Circle(object):\n",
        "   \n",
        "    # Constructor\n",
        "    def __init__(self, radius=3, color='blue'):\n",
        "        self.radius = radius\n",
        "        self.color = color \n",
        "    \n",
        "    # Method\n",
        "    def add_radius(self, r):\n",
        "        self.radius = self.radius + r\n",
        "        return(self.radius)\n",
        "    # Method\n",
        "    def drawCircle(self):\n",
        "        plt.gca().add_patch(plt.Circle((0, 0), radius=self.radius, fc=self.color))\n",
        "        plt.axis('scaled')\n",
        "        plt.title('Circle') \n",
        "        plt.xlabel('x - axis') \n",
        "        plt.ylabel('y - axis') \n",
        "        plt.show()  \n",
        "    \n",
        "RedCircle = Circle(50, 'red')\n",
        "dir(RedCircle)\n",
        "RedCircle.radius\n",
        "RedCircle.drawCircle()\n",
        "RedCircle.add_radius(20)\n"
      ],
      "execution_count": 0,
      "outputs": [
        {
          "output_type": "display_data",
          "data": {
            "image/png": "[encoded data removed]",
            "text/plain": [
              "<Figure size 432x288 with 1 Axes>"
            ]
          },
          "metadata": {
            "tags": [],
            "needs_background": "light"
          }
        },
        {
          "output_type": "display_data",
          "data": {
            "image/png": "[encoded data removed]",
            "text/plain": [
              "<Figure size 432x288 with 1 Axes>"
            ]
          },
          "metadata": {
            "tags": [],
            "needs_background": "light"
          }
        }
      ]
    },
    {
      "cell_type": "markdown",
      "metadata": {
        "id": "QexzLZse9d2O",
        "colab_type": "text"
      },
      "source": [
        "Reading / Writing Files with Open"
      ]
    },
    {
      "cell_type": "code",
      "metadata": {
        "id": "8vkONalw9tNS",
        "colab_type": "code",
        "colab": {}
      },
      "source": [
        "#Reading files\n",
        "  File1 = open(\"/resources/data/Example.txt\",\"w\")\n",
        "  File.name\n",
        "  File.mode\n",
        "  File.close()\n",
        "#using with statement\n",
        "  with open(\"Example1.txt\",\"r\") as File1:\n",
        "    file_stuff = File1.read()\n",
        "    print(file_stuff)\n",
        "\n",
        "    print(File.closed)\n",
        "    print(file_stuff)\n",
        "#reading every line\n",
        "  with open(\"Example.txt\",\"r\") as File1:\n",
        "    file_stuff = File1.readlines() #reads first line\n",
        "    print(file_stuff)\n",
        "    file_stuff = File1.readlines()\n",
        "    print(file_stuff) #reads second line\n",
        "#using a loop to read each line\n",
        "  with open(\"example.txt\",\"r\") as File1:\n",
        "      for line in File1:\n",
        "        print(line)\n",
        "#reading a number of characters in each line\n",
        "  with open(\"example.txt\",\"r\") as File1:\n",
        "    file_stuff = File.readlines(16)\n",
        "    print(file_stuff)\n",
        "    file_stuff = File.readlines(5)\n",
        "    print(file_stuff)\n",
        "  "
      ],
      "execution_count": 0,
      "outputs": []
    },
    {
      "cell_type": "code",
      "metadata": {
        "id": "qDP3ErHclizx",
        "colab_type": "code",
        "colab": {}
      },
      "source": [
        "#Writing Files with Open\n",
        "  File1 = open(\"/resources/data/Example.txt\",\"w\")\n",
        "  with open(\"resources/data/Example2.txt\", \"w\") as File1:\n",
        "    File.write(\"This is line A\")\n",
        "    File.write(\"This is line B\")\n",
        "#writing each element in a list to a file\n",
        "  Line = [\"This is line A\\n\", \"This is line B\\n\", \"This is line C\\n\"]\n",
        "  with open(\"/resources/data/example.txt\", \"w\") as File1:\n",
        "    for line in Lines:\n",
        "      File.write(line)\n",
        "\n",
        "#using appended to write in an existing file\n",
        "  with open(\"/resources/data/example.txt\", \"a\") as File1:\n",
        "    File1.write(\"This is line C\")\n",
        "\n",
        "#copy a file to a new file\n",
        "  with open(\"Example.txt\",\"r\") as readfile:\n",
        "    with open(\"Example2.txt\",\"w\") as writefile:\n",
        "      for line in readfile:\n",
        "        writefile.write(line)\n",
        "        \n"
      ],
      "execution_count": 0,
      "outputs": []
    },
    {
      "cell_type": "code",
      "metadata": {
        "id": "Nos1xKqvrR5u",
        "colab_type": "code",
        "colab": {}
      },
      "source": [
        "#Loading Data with Pandas\n",
        "\n",
        "import pandas as pd\n",
        "csv_path = 'file.csv'\n",
        "df = pd.read_csv(csv_path)\n",
        "df.head() #examine the first 5 rows of the data frame\n",
        "# creating a new dataframe of one column \n",
        "x = df[['Length']]\n",
        "#loc, iloc and ix\n"
      ],
      "execution_count": 0,
      "outputs": []
    },
    {
      "cell_type": "code",
      "metadata": {
        "id": "T9gq9254rY7h",
        "colab_type": "code",
        "colab": {}
      },
      "source": [
        "#Pandas: Working with and Saving Data\n",
        "#for unique elements example\n",
        "df['Released'].unique()"
      ],
      "execution_count": 0,
      "outputs": []
    },
    {
      "cell_type": "code",
      "metadata": {
        "id": "oC4LpXw2wOiL",
        "colab_type": "code",
        "colab": {
          "base_uri": "https://localhost:8080/",
          "height": 34
        },
        "outputId": "d040abd7-e825-4fa3-b493-fe0c616c26c1"
      },
      "source": [
        "!pip install xlrd"
      ],
      "execution_count": 2,
      "outputs": [
        {
          "output_type": "stream",
          "text": [
            "Requirement already satisfied: xlrd in /usr/local/lib/python3.6/dist-packages (1.1.0)\n"
          ],
          "name": "stdout"
        }
      ]
    },
    {
      "cell_type": "code",
      "metadata": {
        "id": "yVvQqoe-waQV",
        "colab_type": "code",
        "colab": {
          "base_uri": "https://localhost:8080/",
          "height": 195
        },
        "outputId": "72673b9b-d1ed-4c3a-c2d4-5117f07ab8cb"
      },
      "source": [
        "import pandas as pd\n",
        "# Read data from CSV file\n",
        "\n",
        "csv_path = 'https://s3-api.us-geo.objectstorage.softlayer.net/cf-courses-data/CognitiveClass/PY0101EN/Chapter%204/Datasets/TopSellingAlbums.csv'\n",
        "df = pd.read_csv(csv_path)\n",
        "# Print first five rows of the dataframe\n",
        "\n",
        "df.head()\n"
      ],
      "execution_count": 7,
      "outputs": [
        {
          "output_type": "execute_result",
          "data": {
            "text/html": [
              "<div>\n",
              "<style scoped>\n",
              "    .dataframe tbody tr th:only-of-type {\n",
              "        vertical-align: middle;\n",
              "    }\n",
              "\n",
              "    .dataframe tbody tr th {\n",
              "        vertical-align: top;\n",
              "    }\n",
              "\n",
              "    .dataframe thead th {\n",
              "        text-align: right;\n",
              "    }\n",
              "</style>\n",
              "<table border=\"1\" class=\"dataframe\">\n",
              "  <thead>\n",
              "    <tr style=\"text-align: right;\">\n",
              "      <th></th>\n",
              "      <th>Artist</th>\n",
              "      <th>Album</th>\n",
              "      <th>Released</th>\n",
              "      <th>Length</th>\n",
              "      <th>Genre</th>\n",
              "      <th>Music Recording Sales (millions)</th>\n",
              "      <th>Claimed Sales (millions)</th>\n",
              "      <th>Released.1</th>\n",
              "      <th>Soundtrack</th>\n",
              "      <th>Rating</th>\n",
              "    </tr>\n",
              "  </thead>\n",
              "  <tbody>\n",
              "    <tr>\n",
              "      <th>0</th>\n",
              "      <td>Michael Jackson</td>\n",
              "      <td>Thriller</td>\n",
              "      <td>1982</td>\n",
              "      <td>0:42:19</td>\n",
              "      <td>pop, rock, R&amp;B</td>\n",
              "      <td>46.0</td>\n",
              "      <td>65</td>\n",
              "      <td>30-Nov-82</td>\n",
              "      <td>NaN</td>\n",
              "      <td>10.0</td>\n",
              "    </tr>\n",
              "    <tr>\n",
              "      <th>1</th>\n",
              "      <td>AC/DC</td>\n",
              "      <td>Back in Black</td>\n",
              "      <td>1980</td>\n",
              "      <td>0:42:11</td>\n",
              "      <td>hard rock</td>\n",
              "      <td>26.1</td>\n",
              "      <td>50</td>\n",
              "      <td>25-Jul-80</td>\n",
              "      <td>NaN</td>\n",
              "      <td>9.5</td>\n",
              "    </tr>\n",
              "    <tr>\n",
              "      <th>2</th>\n",
              "      <td>Pink Floyd</td>\n",
              "      <td>The Dark Side of the Moon</td>\n",
              "      <td>1973</td>\n",
              "      <td>0:42:49</td>\n",
              "      <td>progressive rock</td>\n",
              "      <td>24.2</td>\n",
              "      <td>45</td>\n",
              "      <td>01-Mar-73</td>\n",
              "      <td>NaN</td>\n",
              "      <td>9.0</td>\n",
              "    </tr>\n",
              "    <tr>\n",
              "      <th>3</th>\n",
              "      <td>Whitney Houston</td>\n",
              "      <td>The Bodyguard</td>\n",
              "      <td>1992</td>\n",
              "      <td>0:57:44</td>\n",
              "      <td>R&amp;B, soul, pop</td>\n",
              "      <td>27.4</td>\n",
              "      <td>44</td>\n",
              "      <td>17-Nov-92</td>\n",
              "      <td>Y</td>\n",
              "      <td>8.5</td>\n",
              "    </tr>\n",
              "    <tr>\n",
              "      <th>4</th>\n",
              "      <td>Meat Loaf</td>\n",
              "      <td>Bat Out of Hell</td>\n",
              "      <td>1977</td>\n",
              "      <td>0:46:33</td>\n",
              "      <td>hard rock, progressive rock</td>\n",
              "      <td>20.6</td>\n",
              "      <td>43</td>\n",
              "      <td>21-Oct-77</td>\n",
              "      <td>NaN</td>\n",
              "      <td>8.0</td>\n",
              "    </tr>\n",
              "  </tbody>\n",
              "</table>\n",
              "</div>"
            ],
            "text/plain": [
              "            Artist                      Album  ...  Soundtrack Rating\n",
              "0  Michael Jackson                   Thriller  ...         NaN   10.0\n",
              "1            AC/DC              Back in Black  ...         NaN    9.5\n",
              "2       Pink Floyd  The Dark Side of the Moon  ...         NaN    9.0\n",
              "3  Whitney Houston              The Bodyguard  ...           Y    8.5\n",
              "4        Meat Loaf            Bat Out of Hell  ...         NaN    8.0\n",
              "\n",
              "[5 rows x 10 columns]"
            ]
          },
          "metadata": {
            "tags": []
          },
          "execution_count": 7
        }
      ]
    },
    {
      "cell_type": "code",
      "metadata": {
        "id": "Ua4JqS_LxKBy",
        "colab_type": "code",
        "colab": {
          "base_uri": "https://localhost:8080/",
          "height": 284
        },
        "outputId": "3ebda82c-aab3-4aee-d6d6-c9e5aabb1e0d"
      },
      "source": [
        "# Access to the column Length\n",
        "\n",
        "x = df[['Length']]\n",
        "x"
      ],
      "execution_count": 8,
      "outputs": [
        {
          "output_type": "execute_result",
          "data": {
            "text/html": [
              "<div>\n",
              "<style scoped>\n",
              "    .dataframe tbody tr th:only-of-type {\n",
              "        vertical-align: middle;\n",
              "    }\n",
              "\n",
              "    .dataframe tbody tr th {\n",
              "        vertical-align: top;\n",
              "    }\n",
              "\n",
              "    .dataframe thead th {\n",
              "        text-align: right;\n",
              "    }\n",
              "</style>\n",
              "<table border=\"1\" class=\"dataframe\">\n",
              "  <thead>\n",
              "    <tr style=\"text-align: right;\">\n",
              "      <th></th>\n",
              "      <th>Length</th>\n",
              "    </tr>\n",
              "  </thead>\n",
              "  <tbody>\n",
              "    <tr>\n",
              "      <th>0</th>\n",
              "      <td>0:42:19</td>\n",
              "    </tr>\n",
              "    <tr>\n",
              "      <th>1</th>\n",
              "      <td>0:42:11</td>\n",
              "    </tr>\n",
              "    <tr>\n",
              "      <th>2</th>\n",
              "      <td>0:42:49</td>\n",
              "    </tr>\n",
              "    <tr>\n",
              "      <th>3</th>\n",
              "      <td>0:57:44</td>\n",
              "    </tr>\n",
              "    <tr>\n",
              "      <th>4</th>\n",
              "      <td>0:46:33</td>\n",
              "    </tr>\n",
              "    <tr>\n",
              "      <th>5</th>\n",
              "      <td>0:43:08</td>\n",
              "    </tr>\n",
              "    <tr>\n",
              "      <th>6</th>\n",
              "      <td>1:15:54</td>\n",
              "    </tr>\n",
              "    <tr>\n",
              "      <th>7</th>\n",
              "      <td>0:40:01</td>\n",
              "    </tr>\n",
              "  </tbody>\n",
              "</table>\n",
              "</div>"
            ],
            "text/plain": [
              "    Length\n",
              "0  0:42:19\n",
              "1  0:42:11\n",
              "2  0:42:49\n",
              "3  0:57:44\n",
              "4  0:46:33\n",
              "5  0:43:08\n",
              "6  1:15:54\n",
              "7  0:40:01"
            ]
          },
          "metadata": {
            "tags": []
          },
          "execution_count": 8
        }
      ]
    },
    {
      "cell_type": "code",
      "metadata": {
        "id": "8i8gmOHHxL27",
        "colab_type": "code",
        "colab": {
          "base_uri": "https://localhost:8080/",
          "height": 168
        },
        "outputId": "f569b585-fe60-4912-cc32-5642b05f436b"
      },
      "source": [
        "# Get the column as a series\n",
        "\n",
        "x = df['Length']\n",
        "x"
      ],
      "execution_count": 9,
      "outputs": [
        {
          "output_type": "execute_result",
          "data": {
            "text/plain": [
              "0    0:42:19\n",
              "1    0:42:11\n",
              "2    0:42:49\n",
              "3    0:57:44\n",
              "4    0:46:33\n",
              "5    0:43:08\n",
              "6    1:15:54\n",
              "7    0:40:01\n",
              "Name: Length, dtype: object"
            ]
          },
          "metadata": {
            "tags": []
          },
          "execution_count": 9
        }
      ]
    },
    {
      "cell_type": "code",
      "metadata": {
        "id": "dC6XYchpxV12",
        "colab_type": "code",
        "colab": {
          "base_uri": "https://localhost:8080/",
          "height": 34
        },
        "outputId": "9eb00c0c-117c-4e09-8f42-7040b002493d"
      },
      "source": [
        "# Get the column as a dataframe\n",
        "\n",
        "x = type(df[['Artist']])\n",
        "x"
      ],
      "execution_count": 11,
      "outputs": [
        {
          "output_type": "execute_result",
          "data": {
            "text/plain": [
              "pandas.core.frame.DataFrame"
            ]
          },
          "metadata": {
            "tags": []
          },
          "execution_count": 11
        }
      ]
    },
    {
      "cell_type": "code",
      "metadata": {
        "id": "_AKCLHaQxgkE",
        "colab_type": "code",
        "colab": {
          "base_uri": "https://localhost:8080/",
          "height": 284
        },
        "outputId": "b241283c-c69f-42ec-8078-413047fa8ade"
      },
      "source": [
        "# Access to multiple columns\n",
        "\n",
        "y = df[['Artist','Length','Genre']]\n",
        "y"
      ],
      "execution_count": 12,
      "outputs": [
        {
          "output_type": "execute_result",
          "data": {
            "text/html": [
              "<div>\n",
              "<style scoped>\n",
              "    .dataframe tbody tr th:only-of-type {\n",
              "        vertical-align: middle;\n",
              "    }\n",
              "\n",
              "    .dataframe tbody tr th {\n",
              "        vertical-align: top;\n",
              "    }\n",
              "\n",
              "    .dataframe thead th {\n",
              "        text-align: right;\n",
              "    }\n",
              "</style>\n",
              "<table border=\"1\" class=\"dataframe\">\n",
              "  <thead>\n",
              "    <tr style=\"text-align: right;\">\n",
              "      <th></th>\n",
              "      <th>Artist</th>\n",
              "      <th>Length</th>\n",
              "      <th>Genre</th>\n",
              "    </tr>\n",
              "  </thead>\n",
              "  <tbody>\n",
              "    <tr>\n",
              "      <th>0</th>\n",
              "      <td>Michael Jackson</td>\n",
              "      <td>0:42:19</td>\n",
              "      <td>pop, rock, R&amp;B</td>\n",
              "    </tr>\n",
              "    <tr>\n",
              "      <th>1</th>\n",
              "      <td>AC/DC</td>\n",
              "      <td>0:42:11</td>\n",
              "      <td>hard rock</td>\n",
              "    </tr>\n",
              "    <tr>\n",
              "      <th>2</th>\n",
              "      <td>Pink Floyd</td>\n",
              "      <td>0:42:49</td>\n",
              "      <td>progressive rock</td>\n",
              "    </tr>\n",
              "    <tr>\n",
              "      <th>3</th>\n",
              "      <td>Whitney Houston</td>\n",
              "      <td>0:57:44</td>\n",
              "      <td>R&amp;B, soul, pop</td>\n",
              "    </tr>\n",
              "    <tr>\n",
              "      <th>4</th>\n",
              "      <td>Meat Loaf</td>\n",
              "      <td>0:46:33</td>\n",
              "      <td>hard rock, progressive rock</td>\n",
              "    </tr>\n",
              "    <tr>\n",
              "      <th>5</th>\n",
              "      <td>Eagles</td>\n",
              "      <td>0:43:08</td>\n",
              "      <td>rock, soft rock, folk rock</td>\n",
              "    </tr>\n",
              "    <tr>\n",
              "      <th>6</th>\n",
              "      <td>Bee Gees</td>\n",
              "      <td>1:15:54</td>\n",
              "      <td>disco</td>\n",
              "    </tr>\n",
              "    <tr>\n",
              "      <th>7</th>\n",
              "      <td>Fleetwood Mac</td>\n",
              "      <td>0:40:01</td>\n",
              "      <td>soft rock</td>\n",
              "    </tr>\n",
              "  </tbody>\n",
              "</table>\n",
              "</div>"
            ],
            "text/plain": [
              "            Artist   Length                        Genre\n",
              "0  Michael Jackson  0:42:19               pop, rock, R&B\n",
              "1            AC/DC  0:42:11                    hard rock\n",
              "2       Pink Floyd  0:42:49             progressive rock\n",
              "3  Whitney Houston  0:57:44               R&B, soul, pop\n",
              "4        Meat Loaf  0:46:33  hard rock, progressive rock\n",
              "5           Eagles  0:43:08   rock, soft rock, folk rock\n",
              "6         Bee Gees  1:15:54                        disco\n",
              "7    Fleetwood Mac  0:40:01                    soft rock"
            ]
          },
          "metadata": {
            "tags": []
          },
          "execution_count": 12
        }
      ]
    },
    {
      "cell_type": "code",
      "metadata": {
        "id": "zUSIPkpgxsZb",
        "colab_type": "code",
        "colab": {
          "base_uri": "https://localhost:8080/",
          "height": 34
        },
        "outputId": "21390dd7-ad67-4f8e-f282-c18587e934ff"
      },
      "source": [
        "# Access the value on the first row and the first column\n",
        "\n",
        "df.iloc[0, 0]"
      ],
      "execution_count": 13,
      "outputs": [
        {
          "output_type": "execute_result",
          "data": {
            "text/plain": [
              "'Michael Jackson'"
            ]
          },
          "metadata": {
            "tags": []
          },
          "execution_count": 13
        }
      ]
    },
    {
      "cell_type": "code",
      "metadata": {
        "id": "Bj-gT593xwvi",
        "colab_type": "code",
        "colab": {
          "base_uri": "https://localhost:8080/",
          "height": 34
        },
        "outputId": "699fd7eb-22bc-4b55-db56-ba2e1996fbe2"
      },
      "source": [
        "# Access the value on the second row and the first column\n",
        "\n",
        "df.iloc[1,0]"
      ],
      "execution_count": 14,
      "outputs": [
        {
          "output_type": "execute_result",
          "data": {
            "text/plain": [
              "'AC/DC'"
            ]
          },
          "metadata": {
            "tags": []
          },
          "execution_count": 14
        }
      ]
    },
    {
      "cell_type": "code",
      "metadata": {
        "id": "WX_me792x4OM",
        "colab_type": "code",
        "colab": {
          "base_uri": "https://localhost:8080/",
          "height": 34
        },
        "outputId": "0fabde59-cdf8-4c5c-c890-1b36cce0cc46"
      },
      "source": [
        "# Access the value on the first row and the third column\n",
        "\n",
        "df.iloc[0,2]"
      ],
      "execution_count": 15,
      "outputs": [
        {
          "output_type": "execute_result",
          "data": {
            "text/plain": [
              "1982"
            ]
          },
          "metadata": {
            "tags": []
          },
          "execution_count": 15
        }
      ]
    },
    {
      "cell_type": "code",
      "metadata": {
        "id": "IQL3QgRwx_E4",
        "colab_type": "code",
        "colab": {
          "base_uri": "https://localhost:8080/",
          "height": 34
        },
        "outputId": "414858be-fc46-4f96-d7fb-a2a556fba588"
      },
      "source": [
        "# Access the column using the name\n",
        "\n",
        "df.loc[0, 'Artist']"
      ],
      "execution_count": 17,
      "outputs": [
        {
          "output_type": "execute_result",
          "data": {
            "text/plain": [
              "'Michael Jackson'"
            ]
          },
          "metadata": {
            "tags": []
          },
          "execution_count": 17
        }
      ]
    },
    {
      "cell_type": "code",
      "metadata": {
        "id": "1vLqkjWqyHVq",
        "colab_type": "code",
        "colab": {
          "base_uri": "https://localhost:8080/",
          "height": 106
        },
        "outputId": "1da61998-c6c3-47d4-8c88-652c22b8ea45"
      },
      "source": [
        "# Slicing the dataframe\n",
        "\n",
        "df.iloc[0:2, 0:3]"
      ],
      "execution_count": 18,
      "outputs": [
        {
          "output_type": "execute_result",
          "data": {
            "text/html": [
              "<div>\n",
              "<style scoped>\n",
              "    .dataframe tbody tr th:only-of-type {\n",
              "        vertical-align: middle;\n",
              "    }\n",
              "\n",
              "    .dataframe tbody tr th {\n",
              "        vertical-align: top;\n",
              "    }\n",
              "\n",
              "    .dataframe thead th {\n",
              "        text-align: right;\n",
              "    }\n",
              "</style>\n",
              "<table border=\"1\" class=\"dataframe\">\n",
              "  <thead>\n",
              "    <tr style=\"text-align: right;\">\n",
              "      <th></th>\n",
              "      <th>Artist</th>\n",
              "      <th>Album</th>\n",
              "      <th>Released</th>\n",
              "    </tr>\n",
              "  </thead>\n",
              "  <tbody>\n",
              "    <tr>\n",
              "      <th>0</th>\n",
              "      <td>Michael Jackson</td>\n",
              "      <td>Thriller</td>\n",
              "      <td>1982</td>\n",
              "    </tr>\n",
              "    <tr>\n",
              "      <th>1</th>\n",
              "      <td>AC/DC</td>\n",
              "      <td>Back in Black</td>\n",
              "      <td>1980</td>\n",
              "    </tr>\n",
              "  </tbody>\n",
              "</table>\n",
              "</div>"
            ],
            "text/plain": [
              "            Artist          Album  Released\n",
              "0  Michael Jackson       Thriller      1982\n",
              "1            AC/DC  Back in Black      1980"
            ]
          },
          "metadata": {
            "tags": []
          },
          "execution_count": 18
        }
      ]
    },
    {
      "cell_type": "code",
      "metadata": {
        "id": "_Rf3DCLEyjvF",
        "colab_type": "code",
        "colab": {
          "base_uri": "https://localhost:8080/",
          "height": 136
        },
        "outputId": "4248a568-8fde-420a-c7ca-140f4dea1a86"
      },
      "source": [
        "# Slicing the dataframe using name\n",
        "\n",
        "df.loc[0:2, 'Artist':'Released']"
      ],
      "execution_count": 21,
      "outputs": [
        {
          "output_type": "execute_result",
          "data": {
            "text/html": [
              "<div>\n",
              "<style scoped>\n",
              "    .dataframe tbody tr th:only-of-type {\n",
              "        vertical-align: middle;\n",
              "    }\n",
              "\n",
              "    .dataframe tbody tr th {\n",
              "        vertical-align: top;\n",
              "    }\n",
              "\n",
              "    .dataframe thead th {\n",
              "        text-align: right;\n",
              "    }\n",
              "</style>\n",
              "<table border=\"1\" class=\"dataframe\">\n",
              "  <thead>\n",
              "    <tr style=\"text-align: right;\">\n",
              "      <th></th>\n",
              "      <th>Artist</th>\n",
              "      <th>Album</th>\n",
              "      <th>Released</th>\n",
              "    </tr>\n",
              "  </thead>\n",
              "  <tbody>\n",
              "    <tr>\n",
              "      <th>0</th>\n",
              "      <td>Michael Jackson</td>\n",
              "      <td>Thriller</td>\n",
              "      <td>1982</td>\n",
              "    </tr>\n",
              "    <tr>\n",
              "      <th>1</th>\n",
              "      <td>AC/DC</td>\n",
              "      <td>Back in Black</td>\n",
              "      <td>1980</td>\n",
              "    </tr>\n",
              "    <tr>\n",
              "      <th>2</th>\n",
              "      <td>Pink Floyd</td>\n",
              "      <td>The Dark Side of the Moon</td>\n",
              "      <td>1973</td>\n",
              "    </tr>\n",
              "  </tbody>\n",
              "</table>\n",
              "</div>"
            ],
            "text/plain": [
              "            Artist                      Album  Released\n",
              "0  Michael Jackson                   Thriller      1982\n",
              "1            AC/DC              Back in Black      1980\n",
              "2       Pink Floyd  The Dark Side of the Moon      1973"
            ]
          },
          "metadata": {
            "tags": []
          },
          "execution_count": 21
        }
      ]
    },
    {
      "cell_type": "code",
      "metadata": {
        "id": "iQTFHRyz44hq",
        "colab_type": "code",
        "colab": {
          "base_uri": "https://localhost:8080/",
          "height": 34
        },
        "outputId": "9fe9b3a1-c127-4520-a71e-fa5151066f7a"
      },
      "source": [
        "#One Dimensional Numpy\n",
        "import numpy as np \n",
        "a = np.array([0, 1, 2, 3, 4])\n",
        "a.size\n",
        "a.ndim\n",
        "a.shape\n",
        "a.dtype"
      ],
      "execution_count": 27,
      "outputs": [
        {
          "output_type": "execute_result",
          "data": {
            "text/plain": [
              "dtype('int64')"
            ]
          },
          "metadata": {
            "tags": []
          },
          "execution_count": 27
        }
      ]
    },
    {
      "cell_type": "code",
      "metadata": {
        "id": "LDpuyzu78_9O",
        "colab_type": "code",
        "colab": {
          "base_uri": "https://localhost:8080/",
          "height": 34
        },
        "outputId": "be8ce8ff-8c84-4b7c-9a92-c81678331575"
      },
      "source": [
        "#Slicing\n",
        "c = np.array([100, 1, 2, 3, 0])\n",
        "c[3:5] = 300, 400\n",
        "c"
      ],
      "execution_count": 28,
      "outputs": [
        {
          "output_type": "execute_result",
          "data": {
            "text/plain": [
              "array([100,   1,   2, 300, 400])"
            ]
          },
          "metadata": {
            "tags": []
          },
          "execution_count": 28
        }
      ]
    },
    {
      "cell_type": "code",
      "metadata": {
        "id": "fLWUTaDZ9f0K",
        "colab_type": "code",
        "colab": {
          "base_uri": "https://localhost:8080/",
          "height": 34
        },
        "outputId": "314e0ff1-3a63-4cc5-fc32-a71c7430244c"
      },
      "source": [
        "#Vector Addition and Subtraction\n",
        "u = [1, 0]\n",
        "v = [1, 0]\n",
        "z = []\n",
        "for n, m in zip(u,v):\n",
        "  z.append(n + m)\n",
        "z"
      ],
      "execution_count": 31,
      "outputs": [
        {
          "output_type": "execute_result",
          "data": {
            "text/plain": [
              "[2, 0]"
            ]
          },
          "metadata": {
            "tags": []
          },
          "execution_count": 31
        }
      ]
    },
    {
      "cell_type": "code",
      "metadata": {
        "id": "lKI-xeMzDF0h",
        "colab_type": "code",
        "colab": {
          "base_uri": "https://localhost:8080/",
          "height": 34
        },
        "outputId": "bd4bf530-52a1-4bc1-d14b-11608bb51054"
      },
      "source": [
        "#Vector multiplication with a Scalar\n",
        "y = [1,2]\n",
        "z = []\n",
        "for n in y:\n",
        "  z.append(2*n)\n",
        "z"
      ],
      "execution_count": 34,
      "outputs": [
        {
          "output_type": "execute_result",
          "data": {
            "text/plain": [
              "[2, 4]"
            ]
          },
          "metadata": {
            "tags": []
          },
          "execution_count": 34
        }
      ]
    },
    {
      "cell_type": "code",
      "metadata": {
        "id": "ViyP8QsuFqlf",
        "colab_type": "code",
        "colab": {
          "base_uri": "https://localhost:8080/",
          "height": 34
        },
        "outputId": "c75ef62e-7137-45a8-ba02-387cb274eefa"
      },
      "source": [
        "#product of two arrays\n",
        "u = [1,2]\n",
        "v = [3,2]\n",
        "z = []\n",
        "for n, m in zip(u,v):\n",
        "  z.append(n*m)\n",
        "z"
      ],
      "execution_count": 35,
      "outputs": [
        {
          "output_type": "execute_result",
          "data": {
            "text/plain": [
              "[3, 4]"
            ]
          },
          "metadata": {
            "tags": []
          },
          "execution_count": 35
        }
      ]
    },
    {
      "cell_type": "code",
      "metadata": {
        "id": "ICwmcDijG0I8",
        "colab_type": "code",
        "colab": {
          "base_uri": "https://localhost:8080/",
          "height": 34
        },
        "outputId": "471fc0ce-4a96-4cb7-9dab-62881ce96d7e"
      },
      "source": [
        "#Dot product\n",
        "u = [1,2]\n",
        "v = [3,2]\n",
        "np.dot(u,v)"
      ],
      "execution_count": 36,
      "outputs": [
        {
          "output_type": "execute_result",
          "data": {
            "text/plain": [
              "7"
            ]
          },
          "metadata": {
            "tags": []
          },
          "execution_count": 36
        }
      ]
    },
    {
      "cell_type": "code",
      "metadata": {
        "id": "ieSmTHxEHydv",
        "colab_type": "code",
        "colab": {
          "base_uri": "https://localhost:8080/",
          "height": 34
        },
        "outputId": "a26ff63e-73b5-44ac-ab41-fcf5ee48aa9d"
      },
      "source": [
        "#functions\n",
        "np.linspace(-2,2,num = 5)"
      ],
      "execution_count": 37,
      "outputs": [
        {
          "output_type": "execute_result",
          "data": {
            "text/plain": [
              "array([-2., -1.,  0.,  1.,  2.])"
            ]
          },
          "metadata": {
            "tags": []
          },
          "execution_count": 37
        }
      ]
    },
    {
      "cell_type": "code",
      "metadata": {
        "id": "LgOFwNKqICYE",
        "colab_type": "code",
        "colab": {
          "base_uri": "https://localhost:8080/",
          "height": 282
        },
        "outputId": "eaa5b557-1229-4144-833c-a90f31e189e6"
      },
      "source": [
        "x = np.linspace(0, 2*np.pi, 100)\n",
        "y = np.sin(x)\n",
        "import matplotlib.pyplot as plt\n",
        "%matplotlib inline\n",
        "plt.plot(x,y)"
      ],
      "execution_count": 46,
      "outputs": [
        {
          "output_type": "execute_result",
          "data": {
            "text/plain": [
              "[<matplotlib.lines.Line2D at 0x7fb7fe064cf8>]"
            ]
          },
          "metadata": {
            "tags": []
          },
          "execution_count": 46
        },
        {
          "output_type": "display_data",
          "data": {
            "image/png": "[encoded data removed]",
            "text/plain": [
              "<Figure size 432x288 with 1 Axes>"
            ]
          },
          "metadata": {
            "tags": [],
            "needs_background": "light"
          }
        }
      ]
    }
  ]
}