{
  "nbformat": 4,
  "nbformat_minor": 0,
  "metadata": {
    "colab": {
      "name": "Tuples_Lists_Dictionaries.ipynb",
      "provenance": [],
      "collapsed_sections": []
    },
    "kernelspec": {
      "name": "python3",
      "display_name": "Python 3"
    }
  },
  "cells": [
    {
      "cell_type": "code",
      "metadata": {
        "id": "KsCq2QXABT7c",
        "colab_type": "code",
        "colab": {}
      },
      "source": [
        "#Tuples\n",
        "#Slicing\n",
        "A = (1,2,3,4,5)\n",
        "A[1:4]\n",
        "len((\"disco\", 10,1.2,\"hard rock\",10))\n",
        "Ratings = (10,6,2,1,5,4,10,9)\n",
        "sorted(Ratings)\n",
        "#Nesting\n",
        "NT = (1, 2, (\"pop\", \"rock\"), (3,4), (\"disco\", (1,2)))\n",
        "NT[2][1]\n",
        "\n",
        "#Lists\n",
        "\n",
        "L = [\"M J\", 10.1,1982, [1,2],('A',1)]\n",
        "L[4][0]\n",
        "#Slicing\n",
        "L[3:5]\n",
        "L1 = L + [\"pop\",10]\n",
        "L.extend([\"pop\",10])\n",
        "L.append([\"pop\",10])\n",
        "A = [\"hard rock\", 10,1.2]\n",
        "del(A[1])\n",
        "\"A,B,C,D\".split(\",\")\n",
        "#Cloning\n",
        "B = A[:]\n",
        "help(A)\n",
        "#Dictionaries\n"
      ],
      "execution_count": 0,
      "outputs": []
    }
  ]
}