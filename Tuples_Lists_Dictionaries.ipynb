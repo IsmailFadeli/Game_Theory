{
  "nbformat": 4,
  "nbformat_minor": 0,
  "metadata": {
    "colab": {
      "name": "Tuples_Lists_Dictionaries.ipynb",
      "provenance": [],
      "collapsed_sections": [],
      "authorship_tag": "ABX9TyP9nwn+ptblL0Ksy568PmXL",
      "include_colab_link": true
    },
    "kernelspec": {
      "name": "python3",
      "display_name": "Python 3"
    }
  },
  "cells": [
    {
      "cell_type": "markdown",
      "metadata": {
        "id": "view-in-github",
        "colab_type": "text"
      },
      "source": [
        "<a href=\"https://colab.research.google.com/github/IsmailFadeli/Super_Game/blob/master/Tuples_Lists_Dictionaries.ipynb\" target=\"_parent\"><img src=\"https://colab.research.google.com/assets/colab-badge.svg\" alt=\"Open In Colab\"/></a>"
      ]
    },
    {
      "cell_type": "code",
      "metadata": {
        "id": "KsCq2QXABT7c",
        "colab_type": "code",
        "outputId": "3b97b675-a073-4695-9ebc-699e2840d057",
        "colab": {
          "base_uri": "https://localhost:8080/",
          "height": 34
        }
      },
      "source": [
        "#Tuples\n",
        "#Slicing\n",
        "A = (1,2,3,4,5)\n",
        "A[1:4]\n",
        "len((\"disco\", 10,1.2,\"hard rock\",10))\n",
        "Ratings = (10,6,2,1,5,4,10,9)\n",
        "sorted(Ratings)\n",
        "#Nesting\n",
        "NT = (1, 2, (\"pop\", \"rock\"), (3,4), (\"disco\", (1,2)))\n",
        "NT[2][1]"
      ],
      "execution_count": 31,
      "outputs": [
        {
          "output_type": "execute_result",
          "data": {
            "text/plain": [
              "'rock'"
            ]
          },
          "metadata": {
            "tags": []
          },
          "execution_count": 31
        }
      ]
    },
    {
      "cell_type": "code",
      "metadata": {
        "id": "tQmA1sy50LZp",
        "colab_type": "code",
        "colab": {}
      },
      "source": [
        "#Lists\n",
        "L = [\"M J\", 10.1,1982, [1,2],('A',1)]\n",
        "L[4][0]\n",
        "#Slicing\n",
        "L[3:5]\n",
        "L1 = L + [\"pop\",10]\n",
        "L.extend([\"pop\",10])\n",
        "L.append([\"pop\",10])\n",
        "A = [\"hard rock\", 10,1.2]\n",
        "del(A[1])\n",
        "\"A,B,C,D\".split(\",\")\n",
        "#Cloning\n",
        "B = A[:]"
      ],
      "execution_count": 0,
      "outputs": []
    },
    {
      "cell_type": "code",
      "metadata": {
        "id": "lWpoJ77a0RPt",
        "colab_type": "code",
        "colab": {
          "base_uri": "https://localhost:8080/",
          "height": 34
        },
        "outputId": "073c31a0-5290-4467-e43a-7b294f394a0c"
      },
      "source": [
        "#Dictionaries\n",
        "D = { \"Thriller\": 1980, \"Back in Black\": 1988}\n",
        "D"
      ],
      "execution_count": 30,
      "outputs": [
        {
          "output_type": "execute_result",
          "data": {
            "text/plain": [
              "{'Back in Black': 1988, 'Thriller': 1980}"
            ]
          },
          "metadata": {
            "tags": []
          },
          "execution_count": 30
        }
      ]
    }
  ]
}