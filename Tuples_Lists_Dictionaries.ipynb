{
  "nbformat": 4,
  "nbformat_minor": 0,
  "metadata": {
    "colab": {
      "name": "Tuples_Lists_Dictionaries.ipynb",
      "provenance": [],
      "collapsed_sections": [],
      "authorship_tag": "ABX9TyOwoWFocRO1Ax353cVfV3Sk",
      "include_colab_link": true
    },
    "kernelspec": {
      "name": "python3",
      "display_name": "Python 3"
    }
  },
  "cells": [
    {
      "cell_type": "markdown",
      "metadata": {
        "id": "view-in-github",
        "colab_type": "text"
      },
      "source": [
        "<a href=\"https://colab.research.google.com/github/IsmailFadeli/Super_Game/blob/master/Tuples_Lists_Dictionaries.ipynb\" target=\"_parent\"><img src=\"https://colab.research.google.com/assets/colab-badge.svg\" alt=\"Open In Colab\"/></a>"
      ]
    },
    {
      "cell_type": "code",
      "metadata": {
        "id": "KsCq2QXABT7c",
        "colab_type": "code",
        "outputId": "3b97b675-a073-4695-9ebc-699e2840d057",
        "colab": {
          "base_uri": "https://localhost:8080/",
          "height": 34
        }
      },
      "source": [
        "#Tuples\n",
        "#Slicing\n",
        "A = (1,2,3,4,5)\n",
        "A[1:4]\n",
        "len((\"disco\", 10,1.2,\"hard rock\",10))\n",
        "Ratings = (10,6,2,1,5,4,10,9)\n",
        "sorted(Ratings)\n",
        "#Nesting\n",
        "NT = (1, 2, (\"pop\", \"rock\"), (3,4), (\"disco\", (1,2)))\n",
        "NT[2][1]"
      ],
      "execution_count": 0,
      "outputs": [
        {
          "output_type": "execute_result",
          "data": {
            "text/plain": [
              "'rock'"
            ]
          },
          "metadata": {
            "tags": []
          },
          "execution_count": 31
        }
      ]
    },
    {
      "cell_type": "code",
      "metadata": {
        "id": "tQmA1sy50LZp",
        "colab_type": "code",
        "colab": {}
      },
      "source": [
        "#Lists\n",
        "L = [\"M J\", 10.1,1982, [1,2],('A',1)]\n",
        "L[4][0]\n",
        "#Slicing\n",
        "L[3:5]\n",
        "L1 = L + [\"pop\",10]\n",
        "L.extend([\"pop\",10])\n",
        "L.append([\"pop\",10])\n",
        "A = [\"hard rock\", 10,1.2]\n",
        "del(A[1])\n",
        "\"A,B,C,D\".split(\",\")\n",
        "#Cloning\n",
        "B = A[:]"
      ],
      "execution_count": 0,
      "outputs": []
    },
    {
      "cell_type": "code",
      "metadata": {
        "id": "lWpoJ77a0RPt",
        "colab_type": "code",
        "outputId": "276a64c4-de9f-4d1e-bff9-0f61a985e447",
        "colab": {
          "base_uri": "https://localhost:8080/",
          "height": 34
        }
      },
      "source": [
        "#Dictionaries\n",
        "D = { \"Thriller\": 1980, \"Back in Black\": 1988}\n",
        "D"
      ],
      "execution_count": 0,
      "outputs": [
        {
          "output_type": "execute_result",
          "data": {
            "text/plain": [
              "{'Back in Black': 1988, 'Thriller': 1980}"
            ]
          },
          "metadata": {
            "tags": []
          },
          "execution_count": 34
        }
      ]
    },
    {
      "cell_type": "code",
      "metadata": {
        "id": "o9_UHf0z1gTg",
        "colab_type": "code",
        "outputId": "cc31af99-9d6c-4dbe-cc8a-4d16d95decf5",
        "colab": {
          "base_uri": "https://localhost:8080/",
          "height": 50
        }
      },
      "source": [
        "#sets\n",
        "set1 = {\"pop\", \"rock\", \"pop\"}\n",
        "set1\n",
        "#typecasting a list to a set\n",
        "album_list = [\"Micheal jackson\", \"Thriller\", \"Thriller\", 1982]\n",
        "album_set = set(album_list)\n",
        "album_set.add(1988)\n",
        "album_set.remove(1988)\n",
        "print(\"Album set: \", album_set)\n",
        "\"1988\" in album_set #this returns true if the element exists in the set and false otherwise\n"
      ],
      "execution_count": 0,
      "outputs": [
        {
          "output_type": "stream",
          "text": [
            "Album set:  {'Micheal jackson', 1982, 'Thriller'}\n"
          ],
          "name": "stdout"
        },
        {
          "output_type": "execute_result",
          "data": {
            "text/plain": [
              "False"
            ]
          },
          "metadata": {
            "tags": []
          },
          "execution_count": 2
        }
      ]
    },
    {
      "cell_type": "code",
      "metadata": {
        "id": "ap92sRqQ6soG",
        "colab_type": "code",
        "outputId": "9a45175b-e5a0-48a8-8bde-c28df0b32f71",
        "colab": {
          "base_uri": "https://localhost:8080/",
          "height": 84
        }
      },
      "source": [
        "#conditions and branching\n",
        "age = 18\n",
        "if(age > 18):\n",
        "  print(\"you can enter\")\n",
        "elif(age == 18):\n",
        "  print(\"go seee pink floyd\")\n",
        "else:\n",
        "  print(\"go see M L\")\n",
        "print(\"move on\")\n",
        "#logic operators\n",
        "album_year = 1990\n",
        "if (album_year < 1980) or (album_year > 1989):\n",
        "  print(\"The Album was made in the 70's or 90's\")\n",
        "else:\n",
        "  print(\"The Album was made in the 1980's\")\n",
        "album_year = 1983\n",
        "if(album_year > 1979) and (album_year < 1990):\n",
        "  print(\"This album was made in the 80's\")"
      ],
      "execution_count": 0,
      "outputs": [
        {
          "output_type": "stream",
          "text": [
            "go seee pink floyd\n",
            "move on\n",
            "The Album was made in the 70's or 90's\n",
            "This album was made in the 80's\n"
          ],
          "name": "stdout"
        }
      ]
    },
    {
      "cell_type": "code",
      "metadata": {
        "id": "UjOOHrju_8sU",
        "colab_type": "code",
        "outputId": "273eef3a-dbf9-4a3f-d8bb-546d78dead72",
        "colab": {
          "base_uri": "https://localhost:8080/",
          "height": 67
        }
      },
      "source": [
        "#Loops\n",
        "squares = [\"red\", \"yellow\", \"green\", \"purple\", \"blue\"]\n",
        "for i in range(0,5):\n",
        "  squares[i]=\"white\"\n",
        "\n",
        "squaress = [\"red\", \"yellow\", \"green\"]\n",
        "for i,square in enumerate(squaress):\n",
        "  square\n",
        "  i\n",
        "  print (square)\n",
        "\n",
        "squared = ['orange','orange','orange','purple','blue']\n",
        "Newsquares = []\n",
        "i = 0\n",
        "while(squared[i] == 'orange'):\n",
        "  Newsquares.append(squared[i])\n",
        "  i = i + 1"
      ],
      "execution_count": 0,
      "outputs": [
        {
          "output_type": "stream",
          "text": [
            "red\n",
            "yellow\n",
            "green\n"
          ],
          "name": "stdout"
        }
      ]
    },
    {
      "cell_type": "code",
      "metadata": {
        "id": "kvyNk46RFc2e",
        "colab_type": "code",
        "outputId": "e03f9768-d654-41fb-8469-4dbf9e0603e0",
        "colab": {
          "base_uri": "https://localhost:8080/",
          "height": 151
        }
      },
      "source": [
        "#functions\n",
        "\n",
        "album_ratings = [10.0, 8.5, 9.5, 7.0]\n",
        "L = len(album_ratings)\n",
        "S = sum(album_ratings)\n",
        "\n",
        "#sorted vs Sort\n",
        "\n",
        "sorted_album_ratings = sorted (album_ratings)\n",
        "album_ratings.sort()\n",
        "\n",
        "#making a function\n",
        "\n",
        "def add1(a):\n",
        "  \"\"\"\n",
        "  add 1 to a \n",
        "  \"\"\"\n",
        "  b = a + 1\n",
        "  print(a, \"plus 1 equals\", b)\n",
        "  return b\n",
        "def Mult(a,b):\n",
        "  c = a * b\n",
        "  return c\n",
        "Mult(2,3)\n",
        "add1(5)\n",
        "\n",
        "def printStuff(Stuff):\n",
        "  for i,s in enumerate(Stuff):\n",
        "    print(\"Album\", i, \"Rating is\", s)\n",
        "album_ratings = [10.0, 8.5, 9.5]\n",
        "printStuff(album_ratings)\n",
        "\n",
        "def ArtistNames(*names):\n",
        "  for name in names:\n",
        "    print(name)\n",
        "ArtistNames(\"Micheal Jackson\",\"AC/DC\",\"Pink Floyd\")\n",
        "\n",
        "#Global vs Local Variables\n",
        "def PinkFloyd():\n",
        "  global ClaimedSales\n",
        "  ClaimedSales = \"45 million\"\n",
        "  return ClaimedSales\n",
        "\n",
        "PinkFloyd()\n",
        "print(ClaimedSales)"
      ],
      "execution_count": 26,
      "outputs": [
        {
          "output_type": "stream",
          "text": [
            "5 plus 1 equals 6\n",
            "Album 0 Rating is 10.0\n",
            "Album 1 Rating is 8.5\n",
            "Album 2 Rating is 9.5\n",
            "Micheal Jackson\n",
            "AC/DC\n",
            "Pink Floyd\n",
            "45 million\n"
          ],
          "name": "stdout"
        }
      ]
    },
    {
      "cell_type": "code",
      "metadata": {
        "id": "OKYCNi-FMpKC",
        "colab_type": "code",
        "colab": {
          "base_uri": "https://localhost:8080/",
          "height": 513
        },
        "outputId": "2d2edd4a-fd06-45d0-e9bf-4947c6a8622b"
      },
      "source": [
        "#classes and methods \n",
        " import matplotlib.pyplot as plt \n",
        "class Circle(object):\n",
        "   \n",
        "    # Constructor\n",
        "    def __init__(self, radius=3, color='blue'):\n",
        "        self.radius = radius\n",
        "        self.color = color \n",
        "    \n",
        "    # Method\n",
        "    def add_radius(self, r):\n",
        "        self.radius = self.radius + r\n",
        "        return(self.radius)\n",
        "    # Method\n",
        "    def drawCircle(self):\n",
        "        plt.gca().add_patch(plt.Circle((0, 0), radius=self.radius, fc=self.color))\n",
        "        plt.axis('scaled')\n",
        "        plt.show()  \n",
        "    \n",
        "RedCircle = Circle(50, 'red')\n",
        "dir(RedCircle)\n",
        "RedCircle.radius\n",
        "RedCircle.drawCircle()\n",
        "RedCircle.add_radius(20)\n",
        "RedCircle.drawCircle()"
      ],
      "execution_count": 82,
      "outputs": [
        {
          "output_type": "display_data",
          "data": {
            "image/png": "[encoded data removed]",
            "text/plain": [
              "<Figure size 432x288 with 1 Axes>"
            ]
          },
          "metadata": {
            "tags": [],
            "needs_background": "light"
          }
        },
        {
          "output_type": "display_data",
          "data": {
            "image/png": "[encoded data removed]",
            "text/plain": [
              "<Figure size 432x288 with 1 Axes>"
            ]
          },
          "metadata": {
            "tags": [],
            "needs_background": "light"
          }
        }
      ]
    }
  ]
}