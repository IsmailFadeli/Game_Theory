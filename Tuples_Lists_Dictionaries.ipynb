{
  "nbformat": 4,
  "nbformat_minor": 0,
  "metadata": {
    "colab": {
      "name": "Tuples_Lists_Dictionaries.ipynb",
      "provenance": [],
      "collapsed_sections": [],
      "authorship_tag": "ABX9TyPEFln9K3uiBDLiv9lQ/aXP",
      "include_colab_link": true
    },
    "kernelspec": {
      "name": "python3",
      "display_name": "Python 3"
    }
  },
  "cells": [
    {
      "cell_type": "markdown",
      "metadata": {
        "id": "view-in-github",
        "colab_type": "text"
      },
      "source": [
        "<a href=\"https://colab.research.google.com/github/IsmailFadeli/Super_Game/blob/master/Tuples_Lists_Dictionaries.ipynb\" target=\"_parent\"><img src=\"https://colab.research.google.com/assets/colab-badge.svg\" alt=\"Open In Colab\"/></a>"
      ]
    },
    {
      "cell_type": "code",
      "metadata": {
        "id": "KsCq2QXABT7c",
        "colab_type": "code",
        "outputId": "3b97b675-a073-4695-9ebc-699e2840d057",
        "colab": {
          "base_uri": "https://localhost:8080/",
          "height": 34
        }
      },
      "source": [
        "#Tuples\n",
        "#Slicing\n",
        "A = (1,2,3,4,5)\n",
        "A[1:4]\n",
        "len((\"disco\", 10,1.2,\"hard rock\",10))\n",
        "Ratings = (10,6,2,1,5,4,10,9)\n",
        "sorted(Ratings)\n",
        "#Nesting\n",
        "NT = (1, 2, (\"pop\", \"rock\"), (3,4), (\"disco\", (1,2)))\n",
        "NT[2][1]"
      ],
      "execution_count": 31,
      "outputs": [
        {
          "output_type": "execute_result",
          "data": {
            "text/plain": [
              "'rock'"
            ]
          },
          "metadata": {
            "tags": []
          },
          "execution_count": 31
        }
      ]
    },
    {
      "cell_type": "code",
      "metadata": {
        "id": "tQmA1sy50LZp",
        "colab_type": "code",
        "colab": {}
      },
      "source": [
        "#Lists\n",
        "L = [\"M J\", 10.1,1982, [1,2],('A',1)]\n",
        "L[4][0]\n",
        "#Slicing\n",
        "L[3:5]\n",
        "L1 = L + [\"pop\",10]\n",
        "L.extend([\"pop\",10])\n",
        "L.append([\"pop\",10])\n",
        "A = [\"hard rock\", 10,1.2]\n",
        "del(A[1])\n",
        "\"A,B,C,D\".split(\",\")\n",
        "#Cloning\n",
        "B = A[:]"
      ],
      "execution_count": 0,
      "outputs": []
    },
    {
      "cell_type": "code",
      "metadata": {
        "id": "lWpoJ77a0RPt",
        "colab_type": "code",
        "colab": {
          "base_uri": "https://localhost:8080/",
          "height": 34
        },
        "outputId": "276a64c4-de9f-4d1e-bff9-0f61a985e447"
      },
      "source": [
        "#Dictionaries\n",
        "D = { \"Thriller\": 1980, \"Back in Black\": 1988}\n",
        "D"
      ],
      "execution_count": 34,
      "outputs": [
        {
          "output_type": "execute_result",
          "data": {
            "text/plain": [
              "{'Back in Black': 1988, 'Thriller': 1980}"
            ]
          },
          "metadata": {
            "tags": []
          },
          "execution_count": 34
        }
      ]
    },
    {
      "cell_type": "code",
      "metadata": {
        "id": "o9_UHf0z1gTg",
        "colab_type": "code",
        "colab": {
          "base_uri": "https://localhost:8080/",
          "height": 50
        },
        "outputId": "2b36e3d2-bb0f-4020-f76c-078d559fc686"
      },
      "source": [
        "#sets\n",
        "set1 = {\"pop\", \"rock\", \"pop\"}\n",
        "set1\n",
        "#typecasting a list to a set\n",
        "album_list = [\"Micheal jackson\", \"Thriller\", \"Thriller\", 1982]\n",
        "album_set = set(album_list)\n",
        "album_set.add(1988)\n",
        "album_set.remove(1988)\n",
        "print(\"Album set: \", album_set)\n",
        "\"1988\" in album_set #this returns true if the element exists in the set and false otherwise\n"
      ],
      "execution_count": 44,
      "outputs": [
        {
          "output_type": "stream",
          "text": [
            "Album set:  {'Micheal jackson', 'Thriller', 1982}\n"
          ],
          "name": "stdout"
        },
        {
          "output_type": "execute_result",
          "data": {
            "text/plain": [
              "False"
            ]
          },
          "metadata": {
            "tags": []
          },
          "execution_count": 44
        }
      ]
    }
  ]
}